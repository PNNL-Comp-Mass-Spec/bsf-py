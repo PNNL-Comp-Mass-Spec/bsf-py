{
 "cells": [
  {
   "cell_type": "markdown",
   "metadata": {},
   "source": [
    "# How to use BSF\n",
    "## Check prerequisites\n",
    "- Install the BSF python package (https://github.com/PNNL-Comp-Mass-Spec/bsf-py)\n",
    "- Check the installation"
   ]
  },
  {
   "cell_type": "code",
   "execution_count": 1,
   "metadata": {
    "collapsed": false
   },
   "outputs": [],
   "source": [
    "# import the BSF library\n",
    "import bsf"
   ]
  },
  {
   "cell_type": "code",
   "execution_count": 2,
   "metadata": {
    "collapsed": false
   },
   "outputs": [
    {
     "data": {
      "text/plain": [
       "array([[1, 1, 1, 0, 0, 1, 0, 1, 1, 0, 0, 1],\n",
       "       [0, 1, 0, 1, 1, 1, 0, 1, 1, 0, 1, 0],\n",
       "       [0, 1, 1, 0, 1, 1, 1, 1, 1, 1, 0, 0],\n",
       "       [0, 0, 1, 1, 0, 1, 0, 1, 1, 1, 0, 1],\n",
       "       [0, 0, 0, 1, 1, 0, 1, 1, 1, 0, 1, 1],\n",
       "       [1, 0, 1, 1, 1, 0, 0, 1, 1, 1, 1, 0],\n",
       "       [0, 1, 1, 1, 0, 0, 1, 0, 0, 0, 1, 0],\n",
       "       [1, 1, 0, 0, 1, 0, 1, 0, 0, 0, 1, 1],\n",
       "       [1, 1, 0, 0, 1, 1, 1, 0, 1, 0, 0, 0]], dtype=uint64)"
      ]
     },
     "execution_count": 2,
     "metadata": {},
     "output_type": "execute_result"
    }
   ],
   "source": [
    "# generate random matrix with uint64\n",
    "import numpy as np\n",
    "\n",
    "nsign = 9  # the number of signatures\n",
    "nquery = 5  # the number of queries\n",
    "length = 12  # a length of a signature\n",
    "# a library matrix\n",
    "lmat = np.random.randint(2, size=(nsign, length)).astype(np.uint64)\n",
    "lmat"
   ]
  },
  {
   "cell_type": "code",
   "execution_count": 3,
   "metadata": {
    "collapsed": false
   },
   "outputs": [
    {
     "data": {
      "text/plain": [
       "1"
      ]
     },
     "execution_count": 3,
     "metadata": {},
     "output_type": "execute_result"
    }
   ],
   "source": [
    "# Run BSF to compute the pairwise similiarity of all the pairs of matrix\n",
    "bsf.analysis_with_chunk(lmat, nsign, 'bsf.txt', '/Users/leej324/Documents/projects/')"
   ]
  },
  {
   "cell_type": "code",
   "execution_count": 4,
   "metadata": {
    "collapsed": false
   },
   "outputs": [
    {
     "data": {
      "text/plain": [
       "array([[0, 4, 5, 5, 3, 4, 2, 3, 4],\n",
       "       [0, 0, 5, 4, 5, 5, 3, 3, 4],\n",
       "       [0, 0, 0, 5, 4, 5, 3, 3, 5],\n",
       "       [0, 0, 0, 0, 4, 5, 2, 1, 2],\n",
       "       [0, 0, 0, 0, 0, 5, 3, 4, 3],\n",
       "       [0, 0, 0, 0, 0, 0, 3, 3, 3],\n",
       "       [0, 0, 0, 0, 0, 0, 0, 3, 2],\n",
       "       [0, 0, 0, 0, 0, 0, 0, 0, 4],\n",
       "       [0, 0, 0, 0, 0, 0, 0, 0, 0]], dtype=uint32)"
      ]
     },
     "execution_count": 4,
     "metadata": {},
     "output_type": "execute_result"
    }
   ],
   "source": [
    "# read a result table (binary file)\n",
    "with open(\"/Users/leej324/Documents/projects/bin_9_0_0_9_9_bsf.txt.bin\", \"rb\") as f:\n",
    "    rst_mat = np.frombuffer(f.read(), dtype=np.uint32).reshape((nsign, nsign))\n",
    "rst_mat"
   ]
  },
  {
   "cell_type": "code",
   "execution_count": 5,
   "metadata": {
    "collapsed": true
   },
   "outputs": [],
   "source": [
    "# generate query matrix\n",
    "qmat = np.random.randint(2, size=(nquery, length)).astype(np.uint64)"
   ]
  },
  {
   "cell_type": "code",
   "execution_count": 6,
   "metadata": {
    "collapsed": false
   },
   "outputs": [
    {
     "data": {
      "text/plain": [
       "1"
      ]
     },
     "execution_count": 6,
     "metadata": {},
     "output_type": "execute_result"
    }
   ],
   "source": [
    "bsf.analysis_with_query(lmat, qmat, 'qbsf.txt', '/Users/leej324/Documents/projects/')"
   ]
  },
  {
   "cell_type": "code",
   "execution_count": 7,
   "metadata": {
    "collapsed": false
   },
   "outputs": [
    {
     "name": "stdout",
     "output_type": "stream",
     "text": [
      "[[1 1 1 0 0 1 0 1 1 0 0 1]\n",
      " [0 1 0 1 1 1 0 1 1 0 1 0]\n",
      " [0 1 1 0 1 1 1 1 1 1 0 0]\n",
      " [0 0 1 1 0 1 0 1 1 1 0 1]\n",
      " [0 0 0 1 1 0 1 1 1 0 1 1]\n",
      " [1 0 1 1 1 0 0 1 1 1 1 0]\n",
      " [0 1 1 1 0 0 1 0 0 0 1 0]\n",
      " [1 1 0 0 1 0 1 0 0 0 1 1]\n",
      " [1 1 0 0 1 1 1 0 1 0 0 0]]\n",
      "[[0 1 0 0 0 0 1 0 0 1 1 1]\n",
      " [1 0 1 0 0 1 0 1 1 1 1 1]\n",
      " [1 1 1 0 0 1 0 0 1 1 0 0]\n",
      " [1 1 1 0 0 1 1 0 0 0 1 1]\n",
      " [0 1 1 0 1 1 1 0 1 1 0 1]]\n"
     ]
    }
   ],
   "source": [
    "print(lmat)\n",
    "print(qmat)"
   ]
  },
  {
   "cell_type": "code",
   "execution_count": 8,
   "metadata": {
    "collapsed": false
   },
   "outputs": [
    {
     "data": {
      "text/plain": [
       "array([[2, 6, 5, 5, 5],\n",
       "       [2, 4, 3, 3, 4],\n",
       "       [3, 5, 5, 4, 7],\n",
       "       [2, 6, 4, 3, 5],\n",
       "       [3, 4, 1, 3, 4],\n",
       "       [2, 6, 4, 3, 4],\n",
       "       [3, 2, 2, 4, 3],\n",
       "       [4, 3, 2, 5, 4],\n",
       "       [2, 3, 4, 4, 5]], dtype=uint32)"
      ]
     },
     "execution_count": 8,
     "metadata": {},
     "output_type": "execute_result"
    }
   ],
   "source": [
    "# read a result table (binary file)\n",
    "with open(\"/Users/leej324/Documents/projects/bin_qbsf.txt.bin\", \"rb\") as f:\n",
    "    rst_mat = np.frombuffer(f.read(), dtype=np.uint32).reshape((nsign, nquery))\n",
    "rst_mat"
   ]
  }
 ],
 "metadata": {
  "anaconda-cloud": {},
  "kernelspec": {
   "display_name": "Python [default]",
   "language": "python",
   "name": "python3"
  },
  "language_info": {
   "codemirror_mode": {
    "name": "ipython",
    "version": 3
   },
   "file_extension": ".py",
   "mimetype": "text/x-python",
   "name": "python",
   "nbconvert_exporter": "python",
   "pygments_lexer": "ipython3",
   "version": "3.4.5"
  }
 },
 "nbformat": 4,
 "nbformat_minor": 1
}
